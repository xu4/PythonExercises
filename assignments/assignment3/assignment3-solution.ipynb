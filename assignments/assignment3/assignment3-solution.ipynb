{
 "cells": [
  {
   "cell_type": "markdown",
   "metadata": {
    "deletable": false,
    "editable": false,
    "nbgrader": {
     "checksum": "302223f5ed554aa4d056b7b0578e005b",
     "grade": false,
     "grade_id": "cell-018440ed2f1b6a62",
     "locked": true,
     "schema_version": 1,
     "solution": false
    }
   },
   "source": [
    "# Assignment 3\n",
    "All questions are weighted the same in this assignment. This assignment requires more individual learning then the last one did - you are encouraged to check out the [pandas documentation](http://pandas.pydata.org/pandas-docs/stable/) to find functions or methods you might not have used yet, or ask questions on [Stack Overflow](http://stackoverflow.com/) and tag them as pandas and python related. All questions are worth the same number of points except question 1 which is worth 23% of the assignment grade.\n",
    "\n",
    "**Note**: Questions 2-12 rely on your question 1c answer."
   ]
  },
  {
   "cell_type": "code",
   "execution_count": null,
   "metadata": {
    "deletable": false,
    "editable": false,
    "nbgrader": {
     "checksum": "af2e28ea37d73a373a93fcfaab14faad",
     "grade": false,
     "grade_id": "cell-a029e98a3ac63805",
     "locked": true,
     "schema_version": 1,
     "solution": false
    }
   },
   "outputs": [],
   "source": [
    "import re\n",
    "import pandas as pd\n",
    "import numpy as np\n",
    "\n",
    "# Filter all warnings. If you would like to see the warnings, please comment the two lines below.\n",
    "import warnings\n",
    "warnings.filterwarnings('ignore')"
   ]
  },
  {
   "cell_type": "markdown",
   "metadata": {
    "deletable": false,
    "editable": false,
    "nbgrader": {
     "checksum": "01d235b2d80a971a5a86cd6226600379",
     "grade": false,
     "grade_id": "cell-7e5190c7ff1f2e42",
     "locked": true,
     "schema_version": 1,
     "solution": false
    }
   },
   "source": [
    "### Question 1(a)\n",
    "\n",
    "Complete the function `load_data` below to load three datasets that we will use in subsequent questions. Be sure to follow the instructions below for each dataset *respectively*. \n",
    "\n",
    "\n",
    "\n",
    "**Energy**\n",
    "\n",
    "Load the energy data from the file `assets/Energy Indicators.xls`, which is a list of indicators of [energy supply and renewable electricity production](assets/Energy%20Indicators.xls) from the [United Nations](http://unstats.un.org/unsd/environment/excel_file_tables/2013/Energy%20Indicators.xls) for the year 2013, and should be put into a DataFrame with the variable name of `energy`.\n",
    "\n",
    "Keep in mind that this is an Excel file, and not a comma separated values file. Also, make sure to exclude the footer and header information from the datafile. The first two columns are unneccessary, so you should get rid of them, and you should change the column labels so that the columns are:\n",
    "\n",
    "`['Country', 'Energy Supply', 'Energy Supply per Capita', '% Renewable]`\n",
    "\n",
    "Convert `Energy Supply` to gigajoules (**Note: there are 1,000,000 gigajoules in a petajoule**). For all countries which have missing data (e.g. data with \"...\") make sure this is reflected as `np.NaN` values.\n",
    "\n",
    "Rename the following list of countries (for use in later questions):\n",
    "\n",
    "```\"Republic of Korea\": \"South Korea\",\n",
    "\"United States of America\": \"United States\",\n",
    "\"United Kingdom of Great Britain and Northern Ireland\": \"United Kingdom\",\n",
    "\"China, Hong Kong Special Administrative Region\": \"Hong Kong\"```\n",
    "\n",
    "There are also several countries with parenthesis in their name. Be sure to remove these, e.g. `'Bolivia (Plurinational State of)'` should be `'Bolivia'`.\n",
    "\n",
    "\n",
    "\n",
    "**GDP**\n",
    "\n",
    "Next, load the GDP data from the file `assets/world_bank.csv`, which is a csv containing countries' GDP from 1960 to 2015 from [World Bank](http://data.worldbank.org/indicator/NY.GDP.MKTP.CD). Call this DataFrame `gdp`. \n",
    "\n",
    "Make sure to skip the header, and rename the following list of countries:\n",
    "\n",
    "```\"Korea, Rep.\": \"South Korea\", \n",
    "\"Iran, Islamic Rep.\": \"Iran\",\n",
    "\"Hong Kong SAR, China\": \"Hong Kong\"```\n",
    "\n",
    "\n",
    "\n",
    "**ScimEn**\n",
    "\n",
    "Finally, load the [Sciamgo Journal and Country Rank data for Energy Engineering and Power Technology](http://www.scimagojr.com/countryrank.php?category=2102) from the file `assets/scimagojr-3.xlsx`, which ranks countries based on their journal contributions in the aforementioned area. Call this DataFrame `scim_en`.\n",
    "\n",
    "**For all three datasets, use country names as the index.**"
   ]
  },
  {
   "cell_type": "code",
   "execution_count": null,
   "metadata": {},
   "outputs": [],
   "source": [
    "import re\n",
    "word= \"Bolivia (Plurinational State of)\"\n",
    "newword = re.sub(r' \\([\\w\\s]*\\)', r'', word)\n"
   ]
  },
  {
   "cell_type": "code",
   "execution_count": null,
   "metadata": {},
   "outputs": [],
   "source": [
    "gdp = pd.read_csv(\"assets/world_bank.csv\")\n",
    "    \n",
    "colnames_list = gdp.iloc[3].tolist()\n",
    "colnames =[]\n",
    "\n",
    "colnames = [x  if isinstance(x, str) else int(x) for x in colnames_list] \t\n",
    "gdp.columns = colnames\n",
    "gdp = gdp.iloc[4:, :]\n",
    "gdp['Country Name']=gdp['Country Name'].replace({\"Korea, Rep.\": \"South Korea\", \"Iran, Islamic Rep.\": \"Iran\",\"Hong Kong SAR, China\": \"Hong Kong\"})\n",
    "gdp.set_index('Country Name', inplace = True) \n"
   ]
  },
  {
   "cell_type": "code",
   "execution_count": null,
   "metadata": {},
   "outputs": [],
   "source": [
    "scim_en =  pd.read_excel('assets/scimagojr-3.xlsx')\n",
    "scim_en.head()"
   ]
  },
  {
   "cell_type": "code",
   "execution_count": null,
   "metadata": {
    "deletable": false,
    "nbgrader": {
     "checksum": "235a509ba6795e6bb23273c38faaaa67",
     "grade": false,
     "grade_id": "cell-85d6b39df17aa02f",
     "locked": false,
     "schema_version": 1,
     "solution": true
    }
   },
   "outputs": [],
   "source": [
    "def load_data():\n",
    "    # Competency: reading files in Pandas, df manipulation, regex\n",
    "    \n",
    "    # The three variables are initialized to None. You will fill them with the correct values. \n",
    "    energy, gdp, scim_en = [None] * 3\n",
    "    \n",
    "    energy = pd.read_excel('assets/Energy Indicators.xls') \n",
    "    energy = energy.iloc[17:244, 2:]\n",
    "    energy.columns = ['Country', 'Energy Supply', 'Energy Supply per Capita', '% Renewable']\n",
    "    \n",
    "    energy['Energy Supply'] = energy['Energy Supply'].replace(['...'], np.NaN)\n",
    "    energy['Energy Supply'] = energy['Energy Supply'].apply(lambda x:x*1000000)\n",
    "   \n",
    "    energy['Country'] = energy['Country'].apply(lambda x:re.sub(r' \\([\\w\\s]*\\)', r'', x))\n",
    "    energy['Country'] = energy['Country'].apply(lambda x:re.sub(r'\\d+', r'', x))\n",
    "    \n",
    "    energy['Country'] = energy['Country'].replace({\"Republic of Korea\": \"South Korea\", \"United States of America\": \"United States\", \"United Kingdom of Great Britain and Northern Ireland\": \"United Kingdom\", \"China, Hong Kong Special Administrative Region\": \"Hong Kong\"})\n",
    "    energy.set_index('Country', inplace = True) \n",
    "    gdp = pd.read_csv(\"assets/world_bank.csv\")\n",
    "    colnames_list = gdp.iloc[3].tolist()\n",
    "\n",
    "    colnames = [x  if isinstance(x, str) else str(int(x)) for x in colnames_list] \t\n",
    "\n",
    "    gdp.columns = colnames\n",
    "    gdp = gdp.iloc[4:, :]\n",
    "\n",
    "    gdp['Country Name']=gdp['Country Name'].replace({\"Korea, Rep.\": \"South Korea\", \"Iran, Islamic Rep.\": \"Iran\",\"Hong Kong SAR, China\": \"Hong Kong\"})\n",
    "    gdp.rename({'Country Name': 'Country'}, axis=1, inplace=True)\n",
    "    gdp.set_index('Country', inplace = True) \n",
    "\n",
    "    scim_en =  pd.read_excel('assets/scimagojr-3.xlsx')\n",
    "    scim_en.set_index('Country', inplace = True)\n",
    "    return energy, gdp, scim_en\n",
    "\n"
   ]
  },
  {
   "cell_type": "code",
   "execution_count": null,
   "metadata": {
    "deletable": false,
    "editable": false,
    "nbgrader": {
     "checksum": "a992b43cb653cc675985e08781233940",
     "grade": true,
     "grade_id": "cell-ece042ccd621104a",
     "locked": true,
     "points": 13,
     "schema_version": 1,
     "solution": false
    }
   },
   "outputs": [],
   "source": [
    "# Cell for autograder.\n"
   ]
  },
  {
   "cell_type": "markdown",
   "metadata": {
    "deletable": false,
    "editable": false,
    "nbgrader": {
     "checksum": "13aefc04477149e949f0e66c164fe27f",
     "grade": false,
     "grade_id": "cell-babe0ff2a1fc6b17",
     "locked": true,
     "schema_version": 1,
     "solution": false
    }
   },
   "source": [
    "### Question 1(b)\n",
    "\n",
    "Now suppose we take the intersection of the three datasets based on the country names, how many *unique* entries will we lose? Complete the function below that returns the answer as a single number. The Venn diagram in the next cell is worth a thousand words. \n",
    "\n",
    "*This function should return a single (whole) number.*"
   ]
  },
  {
   "cell_type": "code",
   "execution_count": null,
   "metadata": {
    "deletable": false,
    "editable": false,
    "nbgrader": {
     "checksum": "c9a34da81c80126fd23ae2eac33f98f8",
     "grade": false,
     "grade_id": "cell-96f84e7b693bef63",
     "locked": true,
     "schema_version": 1,
     "solution": false
    }
   },
   "outputs": [],
   "source": [
    "%%HTML\n",
    "<svg width=\"800\" height=\"300\">\n",
    "  <circle cx=\"150\" cy=\"180\" r=\"80\" fill-opacity=\"0.2\" stroke=\"black\" stroke-width=\"2\" fill=\"blue\" />\n",
    "  <circle cx=\"200\" cy=\"100\" r=\"80\" fill-opacity=\"0.2\" stroke=\"black\" stroke-width=\"2\" fill=\"red\" />\n",
    "  <circle cx=\"100\" cy=\"100\" r=\"80\" fill-opacity=\"0.2\" stroke=\"black\" stroke-width=\"2\" fill=\"green\" />\n",
    "  <line x1=\"150\" y1=\"125\" x2=\"300\" y2=\"150\" stroke=\"black\" stroke-width=\"2\" fill=\"black\" stroke-dasharray=\"5,3\"/>\n",
    "  <text x=\"300\" y=\"165\" font-family=\"Verdana\" font-size=\"35\">Everything but this!</text>\n",
    "</svg>"
   ]
  },
  {
   "cell_type": "code",
   "execution_count": null,
   "metadata": {
    "deletable": false,
    "nbgrader": {
     "checksum": "6fcbb7a7b94b9f1a1bd069595d1cbdef",
     "grade": false,
     "grade_id": "cell-b0c3202c000aada4",
     "locked": false,
     "schema_version": 1,
     "solution": true
    }
   },
   "outputs": [],
   "source": [
    "def answer_1b():\n",
    "    # Competency: joining datasets, sets\n",
    "    # energy, gdp,scim_en\n",
    "    energy, gdp, scim_en=  load_data()\n",
    "    df1 = pd.merge(energy, gdp, on='Country')\n",
    "    df2 = pd.merge(df1, scim_en, on = 'Country')\n",
    "    \n",
    "    df3 = pd.merge(energy, gdp, on='Country', how='outer')\n",
    "    df4 = pd.merge(df3, scim_en, on = 'Country', how='outer')\n",
    "    return (df4.shape[0]-df2.shape[0])\n"
   ]
  },
  {
   "cell_type": "code",
   "execution_count": null,
   "metadata": {
    "deletable": false,
    "editable": false,
    "nbgrader": {
     "checksum": "0379f5de7f3cb42332245d87bb02de6e",
     "grade": true,
     "grade_id": "cell-c97ee66ccdccb430",
     "locked": true,
     "points": 5,
     "schema_version": 1,
     "solution": false
    }
   },
   "outputs": [],
   "source": [
    "# Cell for autograder.\n"
   ]
  },
  {
   "cell_type": "markdown",
   "metadata": {
    "deletable": false,
    "editable": false,
    "nbgrader": {
     "checksum": "cb5ed9de733cc73c3e80dab91fda9827",
     "grade": false,
     "grade_id": "cell-89d80693491a3d33",
     "locked": true,
     "schema_version": 1,
     "solution": false
    }
   },
   "source": [
    "### Question 1(c)\n",
    "\n",
    "Join the three datasets to form a new dataset, using the intersection of country names. Keep only the last 10 years (2006-2015) of GDP data and only the top 15 countries by Scimagojr 'Rank' (Rank 1 through 15). \n",
    "\n",
    "The index of the resultant DataFrame should still be the name of the country, and the columns should be \n",
    "\n",
    "```['Rank', 'Documents', 'Citable documents', 'Citations', 'Self-citations',\n",
    "    'Citations per document', 'H index', 'Energy Supply',\n",
    "    'Energy Supply per Capita', '% Renewable', '2006', '2007', '2008',\n",
    "    '2009', '2010', '2011', '2012', '2013', '2014', '2015']```.\n",
    "\n",
    "*This function should return a DataFrame with 20 columns and 15 entries.*"
   ]
  },
  {
   "cell_type": "code",
   "execution_count": null,
   "metadata": {
    "deletable": false,
    "nbgrader": {
     "checksum": "bd3ea9a6dbc44f951fc1cf8a99086281",
     "grade": false,
     "grade_id": "cell-bce4d6f2ecdd1297",
     "locked": false,
     "schema_version": 1,
     "solution": true
    }
   },
   "outputs": [],
   "source": [
    "def answer_1c():\n",
    "    # Competency: df manipulation, joining datasets\n",
    "    energy, gdp, scim_en=  load_data()\n",
    "    df = pd.merge(energy, gdp, on='Country')\n",
    "    df = pd.merge(df, scim_en, on = 'Country')\n",
    "    \n",
    "    df = df[df['Rank'] < 16][['Rank', 'Documents', 'Citable documents', 'Citations', 'Self-citations',\n",
    "    'Citations per document', 'H index', 'Energy Supply',\n",
    "    'Energy Supply per Capita', '% Renewable','2006', '2007', '2008',\n",
    "    '2009', '2010', '2011', '2012', '2013', '2014', '2015']]\n",
    "    \n",
    "    df.sort_values(by=['Rank'], axis=0, ascending=True, inplace=True)\n",
    "\n",
    "    \n",
    "    return df\n"
   ]
  },
  {
   "cell_type": "code",
   "execution_count": null,
   "metadata": {
    "deletable": false,
    "editable": false,
    "nbgrader": {
     "checksum": "dd29102d4d0ae9c48ef5bb2244a41c48",
     "grade": false,
     "grade_id": "cell-05d71142b33e030f",
     "locked": true,
     "schema_version": 1,
     "solution": false
    }
   },
   "outputs": [],
   "source": [
    "your_ans = answer_1c()\n",
    "\n",
    "assert isinstance(your_ans, pd.DataFrame), \"Q1c: Your function should return a DataFrame.\"\n",
    "\n",
    "assert your_ans.shape == (15, 20), \"Q1c: Your resultant DataFrame should have 20 columns and 15 entries.\"\n",
    "\n",
    "assert list(your_ans.columns) == ['Rank', 'Documents', 'Citable documents', 'Citations', 'Self-citations',\n",
    "                                 'Citations per document', 'H index', 'Energy Supply','Energy Supply per Capita', '% Renewable', \n",
    "                                 '2006', '2007', '2008','2009', '2010', '2011', '2012', '2013', '2014', '2015'] , \"Q1c: The column names should be as specified in the question. \"\n",
    "del your_ans"
   ]
  },
  {
   "cell_type": "code",
   "execution_count": null,
   "metadata": {
    "deletable": false,
    "editable": false,
    "nbgrader": {
     "checksum": "6fcf266c211b7a6ee1648cf01708e55d",
     "grade": true,
     "grade_id": "cell-780b5a4da845dbc3",
     "locked": true,
     "points": 5,
     "schema_version": 1,
     "solution": false
    }
   },
   "outputs": [],
   "source": [
    "# Cell for autograder.\n"
   ]
  },
  {
   "cell_type": "markdown",
   "metadata": {
    "deletable": false,
    "editable": false,
    "nbgrader": {
     "checksum": "97b1447d5ddcf8cc408fce98b0ad2583",
     "grade": false,
     "grade_id": "cell-d089e6c2d9dbaa29",
     "locked": true,
     "schema_version": 1,
     "solution": false
    }
   },
   "source": [
    "**Note: all subsequent questions rely on the DataFrame returned by your function in Question 1(c) above.**"
   ]
  },
  {
   "cell_type": "markdown",
   "metadata": {
    "deletable": false,
    "editable": false,
    "nbgrader": {
     "checksum": "00569f704ee0648898ec1e8c1e608111",
     "grade": false,
     "grade_id": "cell-2e54816014e48c18",
     "locked": true,
     "schema_version": 1,
     "solution": false
    }
   },
   "source": [
    "### Question 2\n",
    "What is the average GDP over the last 10 years for each country?\n",
    "\n",
    "*This function should return a Series named `avgGDP` with 15 countries and their average GDP sorted in descending order.*"
   ]
  },
  {
   "cell_type": "code",
   "execution_count": null,
   "metadata": {
    "deletable": false,
    "nbgrader": {
     "checksum": "c8c81393decebcdf753c154b71e355eb",
     "grade": false,
     "grade_id": "cell-8c3d74335c0d489a",
     "locked": false,
     "schema_version": 1,
     "solution": true
    }
   },
   "outputs": [],
   "source": [
    "def answer_two():\n",
    "    # Competency: indexing, math fn, sorting\n",
    "    df=answer_1c()\n",
    "    df = df[['2006', '2007', '2008', '2009', '2010', '2011', '2012', '2013', '2014', '2015']] \n",
    "    df=df.stack()\n",
    "    result = df.groupby('Country').apply(lambda x: np.mean(x))\n",
    "    result = result.rename('avgGDP')\n",
    "    result.sort_values(ascending=False, inplace=True)\n",
    "    return result\n"
   ]
  },
  {
   "cell_type": "code",
   "execution_count": null,
   "metadata": {
    "deletable": false,
    "editable": false,
    "nbgrader": {
     "checksum": "58c90164c238bfc4eca807cebf34d290",
     "grade": false,
     "grade_id": "cell-77189c68d6a7b389",
     "locked": true,
     "schema_version": 1,
     "solution": false
    }
   },
   "outputs": [],
   "source": [
    "your_ans = answer_two()\n",
    "\n",
    "assert isinstance(your_ans, pd.Series), \"Q2: You should return a Series. \"\n",
    "assert your_ans.name == \"avgGDP\", \"Q2: Your Series should have the correct name. \"\n",
    "\n",
    "del your_ans"
   ]
  },
  {
   "cell_type": "code",
   "execution_count": null,
   "metadata": {
    "deletable": false,
    "editable": false,
    "nbgrader": {
     "checksum": "80e179880e64442200c8312c5f0cbe18",
     "grade": true,
     "grade_id": "cell-aaaa11ef7d26f4cf",
     "locked": true,
     "points": 7,
     "schema_version": 1,
     "solution": false
    }
   },
   "outputs": [],
   "source": [
    "# Cell for autograder.\n"
   ]
  },
  {
   "cell_type": "markdown",
   "metadata": {
    "deletable": false,
    "editable": false,
    "nbgrader": {
     "checksum": "afeb8e3d18b154d58afd28bbbf0a5da2",
     "grade": false,
     "grade_id": "cell-34f1a306e4578b06",
     "locked": true,
     "schema_version": 1,
     "solution": false
    }
   },
   "source": [
    "### Question 3\n",
    "\n",
    "By how much had the GDP changed over the 10 year span for the country with the 6th largest average GDP?\n",
    "\n",
    "*This function should return a single number.*"
   ]
  },
  {
   "cell_type": "code",
   "execution_count": null,
   "metadata": {
    "deletable": false,
    "nbgrader": {
     "checksum": "d58b225fdb258693695d0d89ed671676",
     "grade": false,
     "grade_id": "cell-7f77d099e3e0bbee",
     "locked": false,
     "schema_version": 1,
     "solution": true
    }
   },
   "outputs": [],
   "source": [
    "def answer_three():\n",
    "    # Competency: indexing, broadcasting\n",
    "    top_gdp=answer_two()\n",
    "    sixth = top_gdp.index[5]\n",
    "    df=answer_1c()\n",
    "    gdp_sixth = df[df.index == sixth]\n",
    "    change = gdp_sixth['2015'] - gdp_sixth['2006']\n",
    "    return change.values[0]\n",
    " "
   ]
  },
  {
   "cell_type": "code",
   "execution_count": null,
   "metadata": {
    "deletable": false,
    "editable": false,
    "nbgrader": {
     "checksum": "6cd0c9e8a723a1882b416688a4415a69",
     "grade": true,
     "grade_id": "cell-564dd8e5e24b0f83",
     "locked": true,
     "points": 7,
     "schema_version": 1,
     "solution": false
    }
   },
   "outputs": [],
   "source": [
    "# Cell for autograder.\n"
   ]
  },
  {
   "cell_type": "markdown",
   "metadata": {
    "deletable": false,
    "editable": false,
    "nbgrader": {
     "checksum": "3071a0a210e0d2c7d939b7a84150295b",
     "grade": false,
     "grade_id": "cell-617669111e38ca15",
     "locked": true,
     "schema_version": 1,
     "solution": false
    }
   },
   "source": [
    "### Question 4\n",
    "\n",
    "What is the mean energy supply per capita?\n",
    "\n",
    "*This function should return a single number.*"
   ]
  },
  {
   "cell_type": "code",
   "execution_count": null,
   "metadata": {
    "deletable": false,
    "nbgrader": {
     "checksum": "4bc6b266bc23264a50f19242454f0f05",
     "grade": false,
     "grade_id": "cell-58e79d558e982eef",
     "locked": false,
     "schema_version": 1,
     "solution": true
    }
   },
   "outputs": [],
   "source": [
    "def answer_four():\n",
    "    # Competency: math fn\n",
    "    df=answer_1c()\n",
    "    return df['Energy Supply per Capita'].mean()\n"
   ]
  },
  {
   "cell_type": "code",
   "execution_count": null,
   "metadata": {
    "deletable": false,
    "editable": false,
    "nbgrader": {
     "checksum": "8b85b97205c3fb6888a463b0601ee26d",
     "grade": true,
     "grade_id": "cell-30cc66180851638c",
     "locked": true,
     "points": 7,
     "schema_version": 1,
     "solution": false
    }
   },
   "outputs": [],
   "source": [
    "# Cell for autograder.\n"
   ]
  },
  {
   "cell_type": "markdown",
   "metadata": {
    "deletable": false,
    "editable": false,
    "nbgrader": {
     "checksum": "312e177f73407a2f7ff7e91507159b55",
     "grade": false,
     "grade_id": "cell-5c11ddd12fd71b3f",
     "locked": true,
     "schema_version": 1,
     "solution": false
    }
   },
   "source": [
    "### Question 5\n",
    "\n",
    "What country has the maximum % Renewable and what is the percentage?\n",
    "\n",
    "*This function should return a tuple with the name of the country and the percentage.*"
   ]
  },
  {
   "cell_type": "code",
   "execution_count": null,
   "metadata": {
    "deletable": false,
    "nbgrader": {
     "checksum": "4240e53bd6aef78e0665e63b2a5114b9",
     "grade": false,
     "grade_id": "cell-b6824b78e74619f9",
     "locked": false,
     "schema_version": 1,
     "solution": true
    }
   },
   "outputs": [],
   "source": [
    "def answer_five():\n",
    "    # Competency: math fn\n",
    "    df=answer_1c()\n",
    "    max_renewable = df['% Renewable'].max()\n",
    "    country = df[df['% Renewable'] == max_renewable].index[0]\n",
    "    return (country, max_renewable)\n"
   ]
  },
  {
   "cell_type": "code",
   "execution_count": null,
   "metadata": {
    "deletable": false,
    "editable": false,
    "nbgrader": {
     "checksum": "00d0566861159f5cf2ac813e5f457f48",
     "grade": false,
     "grade_id": "cell-a038e629a987582c",
     "locked": true,
     "schema_version": 1,
     "solution": false
    }
   },
   "outputs": [],
   "source": [
    "your_ans = answer_five()\n",
    "\n",
    "assert isinstance(your_ans, tuple), \"Q5: Your function should return a tuple. \"\n",
    "\n",
    "assert isinstance(your_ans[0], str), \"Q5: The first element in your result should be the name of the country. \"\n",
    "\n",
    "del your_ans"
   ]
  },
  {
   "cell_type": "code",
   "execution_count": null,
   "metadata": {
    "deletable": false,
    "editable": false,
    "nbgrader": {
     "checksum": "346730010dc0280534c4b67a1334937a",
     "grade": true,
     "grade_id": "cell-2bd201c5c7bdd80f",
     "locked": true,
     "points": 7,
     "schema_version": 1,
     "solution": false
    }
   },
   "outputs": [],
   "source": [
    "# Cell for autograder.\n"
   ]
  },
  {
   "cell_type": "markdown",
   "metadata": {
    "deletable": false,
    "editable": false,
    "nbgrader": {
     "checksum": "6ce81368a227e39a7f2b6720097b0b4b",
     "grade": false,
     "grade_id": "cell-ddf52a85ad3d5a11",
     "locked": true,
     "schema_version": 1,
     "solution": false
    }
   },
   "source": [
    "### Question 6\n",
    "\n",
    "Create a new column that is the ratio of `Self-Citations` to total `Citations`. \n",
    "What is the maximum value for this new column, and what country has the highest ratio?\n",
    "\n",
    "*This function should return a tuple with the name of the country and the ratio.*"
   ]
  },
  {
   "cell_type": "code",
   "execution_count": null,
   "metadata": {
    "deletable": false,
    "nbgrader": {
     "checksum": "2dd872a353160303c177e2b43a8dfef6",
     "grade": false,
     "grade_id": "cell-a4f39737f38aa53c",
     "locked": false,
     "schema_version": 1,
     "solution": true
    }
   },
   "outputs": [],
   "source": [
    "def answer_six():\n",
    "    # Competency: math fn, broadcasting\n",
    "    df=answer_1c()\n",
    "    df['citation-ratio'] = df['Self-citations']/df['Citations']\n",
    "    max_ratio =  df['citation-ratio'].max()\n",
    "    country = df[df['citation-ratio'] == max_ratio].index[0]\n",
    "    return (country, max_ratio)\n"
   ]
  },
  {
   "cell_type": "code",
   "execution_count": null,
   "metadata": {
    "deletable": false,
    "editable": false,
    "nbgrader": {
     "checksum": "55890dd74e5a300bb59fb5b002530754",
     "grade": false,
     "grade_id": "cell-550b3716809d3ec1",
     "locked": true,
     "schema_version": 1,
     "solution": false
    }
   },
   "outputs": [],
   "source": [
    "your_ans = answer_six()\n",
    "\n",
    "assert isinstance(your_ans, tuple), \"Q6: Your function should return a tuple. \"\n",
    "\n",
    "assert isinstance(your_ans[0], str), \"Q6: The first element in your result should be the name of the country. \"\n",
    "\n",
    "del your_ans"
   ]
  },
  {
   "cell_type": "code",
   "execution_count": null,
   "metadata": {
    "deletable": false,
    "editable": false,
    "nbgrader": {
     "checksum": "ce61afc96e6f4c0014f62a2b5478f499",
     "grade": true,
     "grade_id": "cell-b7a163e9231b88c9",
     "locked": true,
     "points": 7,
     "schema_version": 1,
     "solution": false
    }
   },
   "outputs": [],
   "source": [
    "# Cell for autograder.\n"
   ]
  },
  {
   "cell_type": "markdown",
   "metadata": {
    "deletable": false,
    "editable": false,
    "nbgrader": {
     "checksum": "de5f8c008555a7b1d0ef3a7383d4c63e",
     "grade": false,
     "grade_id": "cell-5c89296ab6f94218",
     "locked": true,
     "schema_version": 1,
     "solution": false
    }
   },
   "source": [
    "### Question 7\n",
    "\n",
    "Create a column that estimates the population using `Energy Supply` and `Energy Supply per capita`. \n",
    "What is the third most populous country according to this estimate?\n",
    "\n",
    "*This function should return the name of the country*"
   ]
  },
  {
   "cell_type": "code",
   "execution_count": null,
   "metadata": {
    "deletable": false,
    "nbgrader": {
     "checksum": "3104e2fed6bea23088ac00c3f6a72036",
     "grade": false,
     "grade_id": "cell-9ca58137846b84d6",
     "locked": false,
     "schema_version": 1,
     "solution": true
    }
   },
   "outputs": [],
   "source": [
    "def answer_seven():\n",
    "    # Competency: Broadcasting, sorting\n",
    "    df=answer_1c()\n",
    "    df['estimated-population'] = df['Energy Supply']/df['Energy Supply per Capita']\n",
    "    df.sort_values(by='estimated-population', ascending=False, inplace=True)\n",
    "    \n",
    "    country = df.index[2]\n",
    "    return country\n"
   ]
  },
  {
   "cell_type": "code",
   "execution_count": null,
   "metadata": {
    "deletable": false,
    "editable": false,
    "nbgrader": {
     "checksum": "a3e22679feefb1ccecb30b5871ef8fcb",
     "grade": false,
     "grade_id": "cell-3dbc5f28513ede29",
     "locked": true,
     "schema_version": 1,
     "solution": false
    }
   },
   "outputs": [],
   "source": [
    "assert isinstance(answer_seven(), str), \"Q7: Your function should return the name of the country. \""
   ]
  },
  {
   "cell_type": "code",
   "execution_count": null,
   "metadata": {
    "deletable": false,
    "editable": false,
    "nbgrader": {
     "checksum": "101f26c322603535c16844a6c72d858b",
     "grade": true,
     "grade_id": "cell-3f3620c88df08b20",
     "locked": true,
     "points": 7,
     "schema_version": 1,
     "solution": false
    }
   },
   "outputs": [],
   "source": [
    "# Cell for autograder.\n"
   ]
  },
  {
   "cell_type": "markdown",
   "metadata": {
    "deletable": false,
    "editable": false,
    "nbgrader": {
     "checksum": "e9e5d0aa0c882f5c06636302ce57a3cb",
     "grade": false,
     "grade_id": "cell-2065207e66e5ec01",
     "locked": true,
     "schema_version": 1,
     "solution": false
    }
   },
   "source": [
    "### Question 8\n",
    "\n",
    "Create a column that estimates the number of citable documents per person. \n",
    "What is the correlation between the number of citable documents per capita and the energy supply per capita? Use the `.corr()` method, (Pearson's correlation).\n",
    "\n",
    "*This function should return a single number.*"
   ]
  },
  {
   "cell_type": "code",
   "execution_count": null,
   "metadata": {
    "deletable": false,
    "nbgrader": {
     "checksum": "17cfb47907ffa62d11b76d95ca09684f",
     "grade": false,
     "grade_id": "cell-033679ea456bfb9d",
     "locked": false,
     "schema_version": 1,
     "solution": true
    }
   },
   "outputs": [],
   "source": [
    "import scipy.stats as stats\n",
    "\n",
    "def answer_eight():\n",
    "    # Competency: Broadcasting, math fn, correlation, visualization\n",
    "    df=answer_1c()\n",
    "    df['citable-doc-per-person'] = df['Citable documents']/(df['Energy Supply']/df['Energy Supply per Capita'])\n",
    " \n",
    "    corr, pval=stats.pearsonr(df[\"citable-doc-per-person\"],df[\"Energy Supply per Capita\"])\n",
    "    return corr\n",
    "   "
   ]
  },
  {
   "cell_type": "code",
   "execution_count": null,
   "metadata": {
    "deletable": false,
    "editable": false,
    "nbgrader": {
     "checksum": "fe2ef12d581b29f685fd2f42e54855fb",
     "grade": false,
     "grade_id": "cell-1a57f3667d2225a3",
     "locked": true,
     "schema_version": 1,
     "solution": false
    }
   },
   "outputs": [],
   "source": [
    "assert -1 <= answer_eight() <= 1, \"Q8: A valid correlation should be between -1 to 1. \""
   ]
  },
  {
   "cell_type": "code",
   "execution_count": null,
   "metadata": {
    "deletable": false,
    "editable": false,
    "nbgrader": {
     "checksum": "a9facd761211255a3bff4d51051e9583",
     "grade": true,
     "grade_id": "cell-3cb5c699065a4a20",
     "locked": true,
     "points": 7,
     "schema_version": 1,
     "solution": false
    }
   },
   "outputs": [],
   "source": [
    "# Cell for autograder.\n"
   ]
  },
  {
   "cell_type": "markdown",
   "metadata": {
    "deletable": false,
    "editable": false,
    "nbgrader": {
     "checksum": "a842f62d243b74dbb9e3c229578215ff",
     "grade": false,
     "grade_id": "cell-ad09765e29b91157",
     "locked": true,
     "schema_version": 1,
     "solution": false
    }
   },
   "source": [
    "### Question 9\n",
    "\n",
    "Create a new column with a 1 if a country's `% Renewable` value is **at or above** the median, and a 0 otherwise for all countries in the top 15. \n",
    "\n",
    "*This function should return a series named `HighRenew` whose index is the country name sorted in ascending order of rank.*"
   ]
  },
  {
   "cell_type": "code",
   "execution_count": null,
   "metadata": {
    "deletable": false,
    "nbgrader": {
     "checksum": "570a11647e2ef1865ec0f1cb30b34910",
     "grade": false,
     "grade_id": "cell-0fdf60e64bf1a4f9",
     "locked": false,
     "schema_version": 1,
     "solution": true
    }
   },
   "outputs": [],
   "source": [
    "def answer_nine():\n",
    "    # Competency: df querying, math fn, variable encoding\n",
    "    df=answer_1c()\n",
    "    renewable_median =df['% Renewable'].median()\n",
    "    \n",
    "    df['HighRenew'] = df['% Renewable'].apply(lambda x: 1 if x >= renewable_median else 0)\n",
    "    df.sort_values(by='Rank', ascending=True, inplace=True)\n",
    "    return df['HighRenew']\n"
   ]
  },
  {
   "cell_type": "code",
   "execution_count": null,
   "metadata": {
    "deletable": false,
    "editable": false,
    "nbgrader": {
     "checksum": "a2a6b0fdddf83ffa73347b7001e4caa7",
     "grade": false,
     "grade_id": "cell-97a7fd73985febad",
     "locked": true,
     "schema_version": 1,
     "solution": false
    }
   },
   "outputs": [],
   "source": [
    "assert isinstance(answer_nine(), pd.Series), \"Q9: Your function should return a Series. \""
   ]
  },
  {
   "cell_type": "code",
   "execution_count": null,
   "metadata": {
    "deletable": false,
    "editable": false,
    "nbgrader": {
     "checksum": "92b2cd08d2e39ed3a2f6b83b56fb9c6e",
     "grade": true,
     "grade_id": "cell-b29a631fd9a7730f",
     "locked": true,
     "points": 7,
     "schema_version": 1,
     "solution": false
    }
   },
   "outputs": [],
   "source": [
    "# Cell for autograder.\n"
   ]
  },
  {
   "cell_type": "markdown",
   "metadata": {
    "deletable": false,
    "editable": false,
    "nbgrader": {
     "checksum": "733295eb347a822441628361d81d5ba4",
     "grade": false,
     "grade_id": "cell-677c51ba711c3af7",
     "locked": true,
     "schema_version": 1,
     "solution": false
    }
   },
   "source": [
    "### Question 10\n",
    "\n",
    "Use the following dictionary to group the `Countries` by `Continent`, then create a DataFrame that displays the sample size (the number of countries in each continent bin), and the sum, mean, and *population* standard deviation of the estimated population for each country. \n",
    "\n",
    "```python\n",
    "ContinentDict  = {'China':'Asia', \n",
    "                  'United States':'North America', \n",
    "                  'Japan':'Asia', \n",
    "                  'United Kingdom':'Europe', \n",
    "                  'Russian Federation':'Europe', \n",
    "                  'Canada':'North America', \n",
    "                  'Germany':'Europe', \n",
    "                  'India':'Asia',\n",
    "                  'France':'Europe', \n",
    "                  'South Korea':'Asia', \n",
    "                  'Italy':'Europe', \n",
    "                  'Spain':'Europe', \n",
    "                  'Iran':'Asia',\n",
    "                  'Australia':'Australia', \n",
    "                  'Brazil':'South America'}\n",
    "```\n",
    "\n",
    "*This function should return a DataFrame with index named Continent `['Asia', 'Australia', 'Europe', 'North America', 'South America']` and columns `['size', 'sum', 'mean', 'std']`*\n",
    "\n",
    "**Special Note: make sure you are indeed calculating the *population* std rather than the sample std. When in doubt, carefully check the documentation of the function you plan to use. Don't take things for granted.**"
   ]
  },
  {
   "cell_type": "code",
   "execution_count": null,
   "metadata": {
    "deletable": false,
    "nbgrader": {
     "checksum": "068007bbaa3125e78bfc54d0ffca8322",
     "grade": false,
     "grade_id": "cell-a5e0c0df27304f98",
     "locked": false,
     "schema_version": 1,
     "solution": true
    }
   },
   "outputs": [],
   "source": [
    "def answer_ten():\n",
    "    # Competency: mapping, groupby, agg\n",
    "    \n",
    "    ContinentDict  = {'China':'Asia', \n",
    "                  'United States':'North America', \n",
    "                  'Japan':'Asia', \n",
    "                  'United Kingdom':'Europe', \n",
    "                  'Russian Federation':'Europe', \n",
    "                  'Canada':'North America', \n",
    "                  'Germany':'Europe', \n",
    "                  'India':'Asia',\n",
    "                  'France':'Europe', \n",
    "                  'South Korea':'Asia', \n",
    "                  'Italy':'Europe', \n",
    "                  'Spain':'Europe', \n",
    "                  'Iran':'Asia',\n",
    "                  'Australia':'Australia', \n",
    "                  'Brazil':'South America'}\n",
    "    \n",
    "    df=answer_1c()\n",
    "    df['estimated-population'] = df['Energy Supply']/df['Energy Supply per Capita']\n",
    "    df['Country'] = df.index\n",
    "    df['continent'] =  df['Country'].apply(lambda x: ContinentDict[x])\n",
    "    \n",
    "    df['estimated-population'] = df['estimated-population'].astype(float)\n",
    "    \n",
    "    result = df.groupby('continent').agg({'estimated-population': ['size', 'sum', 'mean', 'std']})\n",
    "    result.columns = ['size', 'sum', 'mean', 'std']\n",
    "    return result\n",
    "                                      \n"
   ]
  },
  {
   "cell_type": "code",
   "execution_count": null,
   "metadata": {
    "deletable": false,
    "editable": false,
    "nbgrader": {
     "checksum": "51262fdf205ec44cf18d23f2d07b92f1",
     "grade": false,
     "grade_id": "cell-14d6204e5913ba83",
     "locked": true,
     "schema_version": 1,
     "solution": false
    }
   },
   "outputs": [],
   "source": [
    "your_ans = answer_ten()\n",
    "\n",
    "assert isinstance(your_ans, pd.DataFrame), \"Q10: Your function should return a DataFrame. \"\n",
    "\n",
    "assert your_ans.shape[0] == 5, \"Q10: You have a incorrect number of rows. \"\n",
    "\n",
    "assert your_ans.shape[1] == 4, \"Q10: You have a incorrect number of columns. \"\n",
    "\n",
    "assert list(your_ans.index) == ['Asia', 'Australia', 'Europe', 'North America', 'South America'], \"Q10: You have a wrong index. \"\n",
    "\n",
    "assert list(your_ans.columns) == ['size', 'sum', 'mean', 'std'], \"Q10: You have wrong column names. \"\n",
    "\n",
    "assert np.isclose(your_ans.loc[\"Asia\", \"sum\"], 2898666386.6106005, rtol=0.0, atol=1e-5), \"Q10: The sum value for Asia should be around 2898666386.6106005. \"\n",
    "\n",
    "assert np.isclose(your_ans.loc[\"Europe\", \"mean\"], 76321611.20272864, rtol=0.0, atol=1e-5), \"Q10: The mean value for Europe should be around 76321611.20272864. \"\n",
    "\n",
    "assert np.isnan(your_ans.loc[\"South America\", \"std\"]), \"Q10: South America should have a NaN std. \"\n",
    "\n",
    "del your_ans"
   ]
  },
  {
   "cell_type": "code",
   "execution_count": null,
   "metadata": {
    "deletable": false,
    "editable": false,
    "nbgrader": {
     "checksum": "167d0ff7ff61a2a86d15159a1da2d6ae",
     "grade": true,
     "grade_id": "cell-18d1a07971b25743",
     "locked": true,
     "points": 7,
     "schema_version": 1,
     "solution": false
    }
   },
   "outputs": [],
   "source": [
    "# Cell for autograder.\n"
   ]
  },
  {
   "cell_type": "markdown",
   "metadata": {
    "deletable": false,
    "editable": false,
    "nbgrader": {
     "checksum": "17910b9dda92972737b6c9d26c96f42e",
     "grade": false,
     "grade_id": "cell-fa26f5c1eac39c6c",
     "locked": true,
     "schema_version": 1,
     "solution": false
    }
   },
   "source": [
    "### Question 11\n",
    "Cut `% Renewable` into 5 bins. Group the top 15 countries by `Continent` as well as these new `% Renewable` bins. How many countries are there in each of these groups?\n",
    "\n",
    "*This function should return a Series with a MultiIndex of `Continent`, then the bins for `% Renewable`. Do not include groups with no countries.*"
   ]
  },
  {
   "cell_type": "code",
   "execution_count": null,
   "metadata": {
    "deletable": false,
    "nbgrader": {
     "checksum": "f976438d990895f1d877807a1d67de26",
     "grade": false,
     "grade_id": "cell-2ecd9a4076abd8f0",
     "locked": false,
     "schema_version": 1,
     "solution": true
    }
   },
   "outputs": [],
   "source": [
    "def answer_eleven():\n",
    "    # Competency: cut, groupby, math fn\n",
    "    ContinentDict  = {'China':'Asia', \n",
    "                  'United States':'North America', \n",
    "                  'Japan':'Asia', \n",
    "                  'United Kingdom':'Europe', \n",
    "                  'Russian Federation':'Europe', \n",
    "                  'Canada':'North America', \n",
    "                  'Germany':'Europe', \n",
    "                  'India':'Asia',\n",
    "                  'France':'Europe', \n",
    "                  'South Korea':'Asia', \n",
    "                  'Italy':'Europe', \n",
    "                  'Spain':'Europe', \n",
    "                  'Iran':'Asia',\n",
    "                  'Australia':'Australia', \n",
    "                  'Brazil':'South America'}\n",
    "    \n",
    "    df=answer_1c()\n",
    "    df['Country'] = df.index\n",
    "    df['Continent'] =  df['Country'].apply(lambda x: ContinentDict[x])\n",
    "    \n",
    "    df['% Renewable'] = pd.cut(df['% Renewable'], 5)\n",
    "    result = df.groupby(['Continent','% Renewable'])['Country'].size()\n",
    "\n",
    "    return result\n"
   ]
  },
  {
   "cell_type": "code",
   "execution_count": null,
   "metadata": {
    "deletable": false,
    "editable": false,
    "nbgrader": {
     "checksum": "a2e49e99e77c2ce93707a5ed158a5089",
     "grade": false,
     "grade_id": "cell-6428e0b8c4aa94bb",
     "locked": true,
     "schema_version": 1,
     "solution": false
    }
   },
   "outputs": [],
   "source": [
    "your_ans = answer_eleven()\n",
    "\n",
    "assert isinstance(your_ans, pd.Series), \"Q11: Your function should return a Series. \"\n",
    "\n",
    "assert len(your_ans) == 9, \"Q11: Your answer should have 9 rows. \"\n",
    "\n",
    "del your_ans"
   ]
  },
  {
   "cell_type": "code",
   "execution_count": null,
   "metadata": {
    "deletable": false,
    "editable": false,
    "nbgrader": {
     "checksum": "6b825cff3206e0bbd764ca50d8378be5",
     "grade": true,
     "grade_id": "cell-6c665602d6babab9",
     "locked": true,
     "points": 7,
     "schema_version": 1,
     "solution": false
    }
   },
   "outputs": [],
   "source": [
    "# Cell for autograder.\n"
   ]
  },
  {
   "cell_type": "markdown",
   "metadata": {
    "deletable": false,
    "editable": false,
    "nbgrader": {
     "checksum": "67e506be61f72a1f53cbf2f8d1ac9b34",
     "grade": false,
     "grade_id": "cell-4209a10d8f208739",
     "locked": true,
     "schema_version": 1,
     "solution": false
    }
   },
   "source": [
    "### Question 12\n",
    "\n",
    "Write a function to display the estimated population as a string with thousands separator (using commas). Use all significant digits, namely, do not round the results.\n",
    "\n",
    "e.g. 12345678.90 -> 12,345,678.90\n",
    "\n",
    "*This function should return a series `PopEst` whose index is the country name and whose values are the population estimate string*\n",
    "\n",
    "**Special Note: make sure your `Energy Supply` column is of a numerical type rather than \"object\".**"
   ]
  },
  {
   "cell_type": "code",
   "execution_count": null,
   "metadata": {
    "deletable": false,
    "nbgrader": {
     "checksum": "12a09eaee4b1c11afc0fb40ac3143f69",
     "grade": false,
     "grade_id": "cell-58eb0ee0921d93fb",
     "locked": false,
     "schema_version": 1,
     "solution": true
    }
   },
   "outputs": [],
   "source": [
    "def answer_twelve():\n",
    "    # Competency: lambdas, format\n",
    "    df=answer_1c()\n",
    "    \n",
    "    df['PopEst'] = df['Energy Supply']/df['Energy Supply per Capita']\n",
    "    df['PopEst'] = df['PopEst'].apply(lambda x: str(format(x, \",\")) )\n",
    "\n",
    "    return df['PopEst']\n"
   ]
  },
  {
   "cell_type": "code",
   "execution_count": null,
   "metadata": {
    "deletable": false,
    "editable": false,
    "nbgrader": {
     "checksum": "27fc9cb7be8fb531828bc7ef661ea308",
     "grade": false,
     "grade_id": "cell-a9ae4d949ef3b1cf",
     "locked": true,
     "schema_version": 1,
     "solution": false
    }
   },
   "outputs": [],
   "source": [
    "your_ans = answer_twelve()\n",
    "\n",
    "assert isinstance(your_ans, pd.Series), \"Q12: Your function should return a Series. \"\n",
    "\n",
    "assert len(your_ans) == 15, \"Q12: There should be 15 countries. \"\n",
    "\n",
    "del your_ans"
   ]
  },
  {
   "cell_type": "code",
   "execution_count": null,
   "metadata": {
    "deletable": false,
    "editable": false,
    "nbgrader": {
     "checksum": "7a6e4323213a73ce27e9f98443be2fc3",
     "grade": true,
     "grade_id": "cell-10fee7228cf973f6",
     "locked": true,
     "points": 7,
     "schema_version": 1,
     "solution": false
    }
   },
   "outputs": [],
   "source": [
    "# Cell for autograder.\n"
   ]
  },
  {
   "cell_type": "markdown",
   "metadata": {
    "deletable": false,
    "editable": false,
    "nbgrader": {
     "checksum": "61562b9b667bd5efbcec0dcd7becbfaa",
     "grade": false,
     "grade_id": "cell-998b62d4f390ef15",
     "locked": true,
     "schema_version": 1,
     "solution": false
    }
   },
   "source": [
    "### Optional\n",
    "\n",
    "Use the built in function `plot_optional()` to see an example visualization."
   ]
  },
  {
   "cell_type": "code",
   "execution_count": null,
   "metadata": {
    "deletable": false,
    "editable": false,
    "nbgrader": {
     "checksum": "23b2a0bde95cecf74bc0602152a51170",
     "grade": false,
     "grade_id": "cell-741fd55ea57cd40a",
     "locked": true,
     "schema_version": 1,
     "solution": false
    }
   },
   "outputs": [],
   "source": [
    "def plot_optional():\n",
    "    import matplotlib as plt\n",
    "    %matplotlib inline\n",
    "    Top15 = answer_1c()\n",
    "    ax = Top15.plot(x='Rank', y='% Renewable', kind='scatter', \n",
    "                    c=['#e41a1c','#377eb8','#e41a1c','#4daf4a','#4daf4a','#377eb8','#4daf4a','#e41a1c',\n",
    "                       '#4daf4a','#e41a1c','#4daf4a','#4daf4a','#e41a1c','#dede00','#ff7f00'], \n",
    "                    xticks=range(1,16), s=6*Top15['2014']/10**10, alpha=.75, figsize=[16,6]);\n",
    "\n",
    "    for i, txt in enumerate(Top15.index):\n",
    "        ax.annotate(txt, [Top15['Rank'][i], Top15['% Renewable'][i]], ha='center')\n",
    "\n",
    "    print(\"This is an example of a visualization that can be created to help understand the data. \\\n",
    "This is a bubble chart showing % Renewable vs. Rank. The size of the bubble corresponds to the countries' \\\n",
    "2014 GDP, and the color corresponds to the continent.\")\n",
    "    \n",
    "plot_optional()"
   ]
  }
 ],
 "metadata": {
  "anaconda-cloud": {},
  "coursera": {
   "schema_names": [
    "mads_data_manipulation_v2_assignment3"
   ]
  },
  "kernelspec": {
   "display_name": "Python 3",
   "language": "python",
   "name": "python3"
  },
  "language_info": {
   "codemirror_mode": {
    "name": "ipython",
    "version": 3
   },
   "file_extension": ".py",
   "mimetype": "text/x-python",
   "name": "python",
   "nbconvert_exporter": "python",
   "pygments_lexer": "ipython3",
   "version": "3.7.3"
  }
 },
 "nbformat": 4,
 "nbformat_minor": 1
}
